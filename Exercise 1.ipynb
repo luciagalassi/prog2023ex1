{
 "cells": [
  {
   "cell_type": "code",
   "execution_count": 1,
   "metadata": {},
   "outputs": [
    {
     "data": {
      "text/plain": [
       "[4, 6]"
      ]
     },
     "execution_count": 1,
     "metadata": {},
     "output_type": "execute_result"
    }
   ],
   "source": [
    "# Write a function that takes two lists representing sets (with no duplicates) which returns a list of the intersection.\n",
    "# (use only loops and sequence indexing with no method calls except append).\n",
    "# Use a nested loop in your implementation. Test on the list A = [2, 4, 5, 6] and B = [4, 6, 7, 8].\n",
    "\n",
    "def intersection(A,B): \n",
    "    match = []\n",
    "    for x in A:\n",
    "        for y in B:\n",
    "            if x==y:\n",
    "                match.append(x)\n",
    "    return match\n",
    "\n",
    "intersection(A = [2, 4, 5, 6],B = [4, 6, 7, 8])\n",
    "\n"
   ]
  }
 ],
 "metadata": {
  "kernelspec": {
   "display_name": "Python 3",
   "language": "python",
   "name": "python3"
  },
  "language_info": {
   "codemirror_mode": {
    "name": "ipython",
    "version": 3
   },
   "file_extension": ".py",
   "mimetype": "text/x-python",
   "name": "python",
   "nbconvert_exporter": "python",
   "pygments_lexer": "ipython3",
   "version": "3.10.5"
  }
 },
 "nbformat": 4,
 "nbformat_minor": 2
}
