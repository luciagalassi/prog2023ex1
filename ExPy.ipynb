{
  "nbformat": 4,
  "nbformat_minor": 0,
  "metadata": {
    "colab": {
      "provenance": []
    },
    "kernelspec": {
      "name": "python3",
      "display_name": "Python 3"
    },
    "language_info": {
      "name": "python"
    }
  },
  "cells": [
    {
      "cell_type": "code",
      "execution_count": null,
      "metadata": {
        "id": "8UA7cyaZiJKO"
      },
      "outputs": [],
      "source": [
        "#Write a function that takes two lists representing sets (with no duplicates) which returns a list of the intersection.\n",
        "#(use only loops and sequence indexing with no method calls except append).\n",
        "#Use a nested loop in your implementation. Test on the list A = [2, 4, 5, 6] and B = [4, 6, 7, 8]."
      ]
    },
    {
      "cell_type": "code",
      "source": [
        "def intersection_fn(list_1, list_2):\n",
        "    intersect = []\n",
        "\n",
        "    for element1 in list_1:\n",
        "        for element2 in list_2:\n",
        "            if element1 == element2:\n",
        "                intersect.append(element1)\n",
        "                break\n",
        "\n",
        "    return intersect\n",
        "\n",
        "\n",
        "A = [2, 4, 5, 6]\n",
        "B = [4, 6, 7, 8]\n",
        "\n",
        "intersect_AB = intersection_fn(A, B)\n",
        "print(intersect_AB)"
      ],
      "metadata": {
        "colab": {
          "base_uri": "https://localhost:8080/"
        },
        "id": "YB7uPt2fkJEO",
        "outputId": "57c4cfca-615f-4866-d6c2-dc2e928f1d58"
      },
      "execution_count": 5,
      "outputs": [
        {
          "output_type": "stream",
          "name": "stdout",
          "text": [
            "[4, 6]\n"
          ]
        }
      ]
    }
  ]
}